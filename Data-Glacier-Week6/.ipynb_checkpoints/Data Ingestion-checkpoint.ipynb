{
 "cells": [
  {
   "cell_type": "markdown",
   "id": "d7283d93-db89-45b5-a657-5d68722a021e",
   "metadata": {},
   "source": [
    "# File ingestion and schema validation\n"
   ]
  },
  {
   "cell_type": "code",
   "execution_count": 3,
   "id": "627548a1-fff1-4a77-9e98-2a9d00db1424",
   "metadata": {},
   "outputs": [],
   "source": [
    "import time\n",
    "\n",
    "import numpy as np\n",
    "import pandas as pd\n",
    "import matplotlib\n",
    "import matplotlib.pyplot as plt\n",
    "import dask.dataframe as dd\n",
    "import multiprocessing as mp\n",
    "import csv\n",
    "import yaml\n",
    "import gzip\n",
    "import os\n",
    "from subprocess import check_call\n",
    "import warnings\n",
    "warnings.filterwarnings('ignore')\n",
    "\n",
    "import datatest"
   ]
  },
  {
   "cell_type": "markdown",
   "id": "5f53c460-45c4-4b21-8d70-249c5bb9961b",
   "metadata": {},
   "source": [
    "## Using Pandas"
   ]
  },
  {
   "cell_type": "code",
   "execution_count": 5,
   "id": "b28d3961-0454-4165-9145-c191db674f3a",
   "metadata": {},
   "outputs": [
    {
     "name": "stdout",
     "output_type": "stream",
     "text": [
      "Read csv with pandas:  53.97488236427307 sec\n"
     ]
    }
   ],
   "source": [
    "start = time.time()\n",
    "df = pd.read_csv('Data/price_paid_records.csv')\n",
    "end = time.time()\n",
    "print(\"Read csv with pandas: \",(end-start),\"sec\")"
   ]
  },
  {
   "cell_type": "markdown",
   "id": "5add9268-f39d-4165-85e5-7d7048ba9d7e",
   "metadata": {},
   "source": [
    "## Using Dask"
   ]
  },
  {
   "cell_type": "code",
   "execution_count": 6,
   "id": "5654c97f-81ba-447b-9ce8-613d10096c45",
   "metadata": {},
   "outputs": [
    {
     "name": "stdout",
     "output_type": "stream",
     "text": [
      "Read csv with dask:  0.08531713485717773 sec\n"
     ]
    }
   ],
   "source": [
    "# Dataframes implement the pandas API\n",
    "from dask import dataframe as dd\n",
    "start = time.time()\n",
    "dask_df = dd.read_csv('Data/price_paid_records.csv')\n",
    "end = time.time()\n",
    "print(\"Read csv with dask: \",(end-start),\"sec\")"
   ]
  },
  {
   "cell_type": "markdown",
   "id": "46a79b8f-e644-4a49-a1d5-8ab082e5aa34",
   "metadata": {},
   "source": [
    "Dask is faster than pandas\n"
   ]
  },
  {
   "cell_type": "code",
   "execution_count": 7,
   "id": "56e935f8-0645-4c87-82bf-80344c57ffd0",
   "metadata": {},
   "outputs": [
    {
     "data": {
      "text/html": [
       "<div>\n",
       "<style scoped>\n",
       "    .dataframe tbody tr th:only-of-type {\n",
       "        vertical-align: middle;\n",
       "    }\n",
       "\n",
       "    .dataframe tbody tr th {\n",
       "        vertical-align: top;\n",
       "    }\n",
       "\n",
       "    .dataframe thead th {\n",
       "        text-align: right;\n",
       "    }\n",
       "</style>\n",
       "<table border=\"1\" class=\"dataframe\">\n",
       "  <thead>\n",
       "    <tr style=\"text-align: right;\">\n",
       "      <th></th>\n",
       "      <th>Transaction unique identifier</th>\n",
       "      <th>Price</th>\n",
       "      <th>Date of Transfer</th>\n",
       "      <th>Property Type</th>\n",
       "      <th>Old/New</th>\n",
       "      <th>Duration</th>\n",
       "      <th>Town/City</th>\n",
       "      <th>District</th>\n",
       "      <th>County</th>\n",
       "      <th>PPDCategory Type</th>\n",
       "      <th>Record Status - monthly file only</th>\n",
       "    </tr>\n",
       "  </thead>\n",
       "  <tbody>\n",
       "    <tr>\n",
       "      <th>0</th>\n",
       "      <td>{81B82214-7FBC-4129-9F6B-4956B4A663AD}</td>\n",
       "      <td>25000</td>\n",
       "      <td>1995-08-18 00:00</td>\n",
       "      <td>T</td>\n",
       "      <td>N</td>\n",
       "      <td>F</td>\n",
       "      <td>OLDHAM</td>\n",
       "      <td>OLDHAM</td>\n",
       "      <td>GREATER MANCHESTER</td>\n",
       "      <td>A</td>\n",
       "      <td>A</td>\n",
       "    </tr>\n",
       "    <tr>\n",
       "      <th>1</th>\n",
       "      <td>{8046EC72-1466-42D6-A753-4956BF7CD8A2}</td>\n",
       "      <td>42500</td>\n",
       "      <td>1995-08-09 00:00</td>\n",
       "      <td>S</td>\n",
       "      <td>N</td>\n",
       "      <td>F</td>\n",
       "      <td>GRAYS</td>\n",
       "      <td>THURROCK</td>\n",
       "      <td>THURROCK</td>\n",
       "      <td>A</td>\n",
       "      <td>A</td>\n",
       "    </tr>\n",
       "    <tr>\n",
       "      <th>2</th>\n",
       "      <td>{278D581A-5BF3-4FCE-AF62-4956D87691E6}</td>\n",
       "      <td>45000</td>\n",
       "      <td>1995-06-30 00:00</td>\n",
       "      <td>T</td>\n",
       "      <td>N</td>\n",
       "      <td>F</td>\n",
       "      <td>HIGHBRIDGE</td>\n",
       "      <td>SEDGEMOOR</td>\n",
       "      <td>SOMERSET</td>\n",
       "      <td>A</td>\n",
       "      <td>A</td>\n",
       "    </tr>\n",
       "    <tr>\n",
       "      <th>3</th>\n",
       "      <td>{1D861C06-A416-4865-973C-4956DB12CD12}</td>\n",
       "      <td>43150</td>\n",
       "      <td>1995-11-24 00:00</td>\n",
       "      <td>T</td>\n",
       "      <td>N</td>\n",
       "      <td>F</td>\n",
       "      <td>BEDFORD</td>\n",
       "      <td>NORTH BEDFORDSHIRE</td>\n",
       "      <td>BEDFORDSHIRE</td>\n",
       "      <td>A</td>\n",
       "      <td>A</td>\n",
       "    </tr>\n",
       "    <tr>\n",
       "      <th>4</th>\n",
       "      <td>{DD8645FD-A815-43A6-A7BA-4956E58F1874}</td>\n",
       "      <td>18899</td>\n",
       "      <td>1995-06-23 00:00</td>\n",
       "      <td>S</td>\n",
       "      <td>N</td>\n",
       "      <td>F</td>\n",
       "      <td>WAKEFIELD</td>\n",
       "      <td>LEEDS</td>\n",
       "      <td>WEST YORKSHIRE</td>\n",
       "      <td>A</td>\n",
       "      <td>A</td>\n",
       "    </tr>\n",
       "  </tbody>\n",
       "</table>\n",
       "</div>"
      ],
      "text/plain": [
       "            Transaction unique identifier  Price  Date of Transfer  \\\n",
       "0  {81B82214-7FBC-4129-9F6B-4956B4A663AD}  25000  1995-08-18 00:00   \n",
       "1  {8046EC72-1466-42D6-A753-4956BF7CD8A2}  42500  1995-08-09 00:00   \n",
       "2  {278D581A-5BF3-4FCE-AF62-4956D87691E6}  45000  1995-06-30 00:00   \n",
       "3  {1D861C06-A416-4865-973C-4956DB12CD12}  43150  1995-11-24 00:00   \n",
       "4  {DD8645FD-A815-43A6-A7BA-4956E58F1874}  18899  1995-06-23 00:00   \n",
       "\n",
       "  Property Type Old/New Duration   Town/City            District  \\\n",
       "0             T       N        F      OLDHAM              OLDHAM   \n",
       "1             S       N        F       GRAYS            THURROCK   \n",
       "2             T       N        F  HIGHBRIDGE           SEDGEMOOR   \n",
       "3             T       N        F     BEDFORD  NORTH BEDFORDSHIRE   \n",
       "4             S       N        F   WAKEFIELD               LEEDS   \n",
       "\n",
       "               County PPDCategory Type Record Status - monthly file only  \n",
       "0  GREATER MANCHESTER                A                                 A  \n",
       "1            THURROCK                A                                 A  \n",
       "2            SOMERSET                A                                 A  \n",
       "3        BEDFORDSHIRE                A                                 A  \n",
       "4      WEST YORKSHIRE                A                                 A  "
      ]
     },
     "execution_count": 7,
     "metadata": {},
     "output_type": "execute_result"
    }
   ],
   "source": [
    "df.head(5)"
   ]
  },
  {
   "cell_type": "code",
   "execution_count": 8,
   "id": "1ca83bb7-2e40-49b8-bb3e-13f54956b124",
   "metadata": {},
   "outputs": [
    {
     "data": {
      "text/plain": [
       "Index(['Transaction unique identifier', 'Price', 'Date of Transfer',\n",
       "       'Property Type', 'Old/New', 'Duration', 'Town/City', 'District',\n",
       "       'County', 'PPDCategory Type', 'Record Status - monthly file only'],\n",
       "      dtype='object')"
      ]
     },
     "execution_count": 8,
     "metadata": {},
     "output_type": "execute_result"
    }
   ],
   "source": [
    "df.columns"
   ]
  },
  {
   "cell_type": "code",
   "execution_count": 9,
   "id": "8f45fcce-3bbb-4086-b975-5feb8c0dc450",
   "metadata": {},
   "outputs": [],
   "source": [
    "df.rename(columns = {'Transaction unique identifier':\"Transaction_unique_identifier\", 'Date of Transfer':\"Date_of_Transfer\",\n",
    "                       'Property Type':\"Property_Type\", 'PPDCategory Type':\"PPDCategory_Type\",\n",
    "                       'Record Status - monthly file only':\"Record_Status_monthly\"}, inplace = True)"
   ]
  },
  {
   "cell_type": "code",
   "execution_count": 10,
   "id": "3d585004-e06e-4330-9929-b0ed849d2d70",
   "metadata": {},
   "outputs": [],
   "source": [
    "# Remove unwanted column\n",
    "df.drop('Transaction_unique_identifier', axis = 1, inplace = True)"
   ]
  },
  {
   "cell_type": "code",
   "execution_count": 11,
   "id": "4091441f-7097-40dd-809a-18d1199dcb6b",
   "metadata": {},
   "outputs": [],
   "source": [
    "# remove special character\n",
    "df.columns=df.columns.str.replace('[#,@,&]','')"
   ]
  },
  {
   "cell_type": "code",
   "execution_count": 12,
   "id": "3cb60f78-093f-4a7c-8615-2ac6278ca198",
   "metadata": {},
   "outputs": [
    {
     "data": {
      "text/html": [
       "<div>\n",
       "<style scoped>\n",
       "    .dataframe tbody tr th:only-of-type {\n",
       "        vertical-align: middle;\n",
       "    }\n",
       "\n",
       "    .dataframe tbody tr th {\n",
       "        vertical-align: top;\n",
       "    }\n",
       "\n",
       "    .dataframe thead th {\n",
       "        text-align: right;\n",
       "    }\n",
       "</style>\n",
       "<table border=\"1\" class=\"dataframe\">\n",
       "  <thead>\n",
       "    <tr style=\"text-align: right;\">\n",
       "      <th></th>\n",
       "      <th>Price</th>\n",
       "      <th>Date_of_Transfer</th>\n",
       "      <th>Property_Type</th>\n",
       "      <th>Old/New</th>\n",
       "      <th>Duration</th>\n",
       "      <th>Town/City</th>\n",
       "      <th>District</th>\n",
       "      <th>County</th>\n",
       "      <th>PPDCategory_Type</th>\n",
       "      <th>Record_Status_monthly</th>\n",
       "    </tr>\n",
       "  </thead>\n",
       "  <tbody>\n",
       "    <tr>\n",
       "      <th>0</th>\n",
       "      <td>25000</td>\n",
       "      <td>1995-08-18 00:00</td>\n",
       "      <td>T</td>\n",
       "      <td>N</td>\n",
       "      <td>F</td>\n",
       "      <td>OLDHAM</td>\n",
       "      <td>OLDHAM</td>\n",
       "      <td>GREATER MANCHESTER</td>\n",
       "      <td>A</td>\n",
       "      <td>A</td>\n",
       "    </tr>\n",
       "    <tr>\n",
       "      <th>1</th>\n",
       "      <td>42500</td>\n",
       "      <td>1995-08-09 00:00</td>\n",
       "      <td>S</td>\n",
       "      <td>N</td>\n",
       "      <td>F</td>\n",
       "      <td>GRAYS</td>\n",
       "      <td>THURROCK</td>\n",
       "      <td>THURROCK</td>\n",
       "      <td>A</td>\n",
       "      <td>A</td>\n",
       "    </tr>\n",
       "    <tr>\n",
       "      <th>2</th>\n",
       "      <td>45000</td>\n",
       "      <td>1995-06-30 00:00</td>\n",
       "      <td>T</td>\n",
       "      <td>N</td>\n",
       "      <td>F</td>\n",
       "      <td>HIGHBRIDGE</td>\n",
       "      <td>SEDGEMOOR</td>\n",
       "      <td>SOMERSET</td>\n",
       "      <td>A</td>\n",
       "      <td>A</td>\n",
       "    </tr>\n",
       "    <tr>\n",
       "      <th>3</th>\n",
       "      <td>43150</td>\n",
       "      <td>1995-11-24 00:00</td>\n",
       "      <td>T</td>\n",
       "      <td>N</td>\n",
       "      <td>F</td>\n",
       "      <td>BEDFORD</td>\n",
       "      <td>NORTH BEDFORDSHIRE</td>\n",
       "      <td>BEDFORDSHIRE</td>\n",
       "      <td>A</td>\n",
       "      <td>A</td>\n",
       "    </tr>\n",
       "    <tr>\n",
       "      <th>4</th>\n",
       "      <td>18899</td>\n",
       "      <td>1995-06-23 00:00</td>\n",
       "      <td>S</td>\n",
       "      <td>N</td>\n",
       "      <td>F</td>\n",
       "      <td>WAKEFIELD</td>\n",
       "      <td>LEEDS</td>\n",
       "      <td>WEST YORKSHIRE</td>\n",
       "      <td>A</td>\n",
       "      <td>A</td>\n",
       "    </tr>\n",
       "  </tbody>\n",
       "</table>\n",
       "</div>"
      ],
      "text/plain": [
       "   Price  Date_of_Transfer Property_Type Old/New Duration   Town/City  \\\n",
       "0  25000  1995-08-18 00:00             T       N        F      OLDHAM   \n",
       "1  42500  1995-08-09 00:00             S       N        F       GRAYS   \n",
       "2  45000  1995-06-30 00:00             T       N        F  HIGHBRIDGE   \n",
       "3  43150  1995-11-24 00:00             T       N        F     BEDFORD   \n",
       "4  18899  1995-06-23 00:00             S       N        F   WAKEFIELD   \n",
       "\n",
       "             District              County PPDCategory_Type  \\\n",
       "0              OLDHAM  GREATER MANCHESTER                A   \n",
       "1            THURROCK            THURROCK                A   \n",
       "2           SEDGEMOOR            SOMERSET                A   \n",
       "3  NORTH BEDFORDSHIRE        BEDFORDSHIRE                A   \n",
       "4               LEEDS      WEST YORKSHIRE                A   \n",
       "\n",
       "  Record_Status_monthly  \n",
       "0                     A  \n",
       "1                     A  \n",
       "2                     A  \n",
       "3                     A  \n",
       "4                     A  "
      ]
     },
     "execution_count": 12,
     "metadata": {},
     "output_type": "execute_result"
    }
   ],
   "source": [
    "df.head()"
   ]
  },
  {
   "cell_type": "code",
   "execution_count": 13,
   "id": "c7cb90f2-50f5-4693-a45a-b7e09f20f155",
   "metadata": {},
   "outputs": [],
   "source": [
    "df.to_csv(\"Data/cleaned_data.csv\",index=False)"
   ]
  },
  {
   "cell_type": "markdown",
   "id": "a0dc042c-570a-4597-9b90-fc422e35290d",
   "metadata": {},
   "source": [
    "#### Data Ingestion"
   ]
  },
  {
   "cell_type": "code",
   "execution_count": 14,
   "id": "655ce23f-8cc7-4251-bef1-df940bf2bb91",
   "metadata": {},
   "outputs": [
    {
     "name": "stdout",
     "output_type": "stream",
     "text": [
      "Overwriting testutility.py\n"
     ]
    }
   ],
   "source": [
    "%%writefile testutility.py\n",
    "import logging\n",
    "import os\n",
    "import subprocess\n",
    "import yaml\n",
    "import pandas as pd\n",
    "import datetime \n",
    "import gc\n",
    "import re\n",
    "\n",
    "\n",
    "################\n",
    "# File Reading #\n",
    "################\n",
    "\n",
    "def read_config_file(filepath):\n",
    "    with open(filepath, 'r') as stream:\n",
    "        try:\n",
    "            return yaml.safe_load(stream)\n",
    "        except yaml.YAMLError as exc:\n",
    "            logging.error(exc)\n",
    "\n",
    "\n",
    "def replacer(string, char):\n",
    "    pattern = char + '{2,}'\n",
    "    string = re.sub(pattern, char, string) \n",
    "    return string\n",
    "\n",
    "def col_header_val(df,table_config):\n",
    "    '''\n",
    "    replace whitespaces in the column\n",
    "    and standardized column names\n",
    "    '''\n",
    "    df.columns = df.columns.str.lower()\n",
    "    df.columns = df.columns.str.replace('[^\\w]','_',regex=True)\n",
    "    df.columns = list(map(lambda x: x.strip('_'), list(df.columns)))\n",
    "    df.columns = list(map(lambda x: replacer(x,'_'), list(df.columns)))\n",
    "    expected_col = list(map(lambda x: x.lower(),  table_config['columns']))\n",
    "    expected_col.sort()\n",
    "    df.columns =list(map(lambda x: x.lower(), list(df.columns)))\n",
    "    df = df.reindex(sorted(df.columns), axis=1)\n",
    "    if len(df.columns) == len(expected_col) and list(expected_col)  == list(df.columns):\n",
    "        print(\"column name and column length validation passed\")\n",
    "        return 1\n",
    "    else:\n",
    "        print(\"column name and column length validation failed\")\n",
    "        mismatched_columns_file = list(set(df.columns).difference(expected_col))\n",
    "        print(\"Following File columns are not in the YAML file\",mismatched_columns_file)\n",
    "        missing_YAML_file = list(set(expected_col).difference(df.columns))\n",
    "        print(\"Following YAML columns are not in the file uploaded\",missing_YAML_file)\n",
    "        logging.info(f'df columns: {df.columns}')\n",
    "        logging.info(f'expected columns: {expected_col}')\n",
    "        return 0"
   ]
  },
  {
   "cell_type": "code",
   "execution_count": 15,
   "id": "5c0aa5d4-6a44-40da-9e98-f8a3312c2695",
   "metadata": {},
   "outputs": [
    {
     "data": {
      "text/plain": [
       "Index(['Price', 'Date_of_Transfer', 'Property_Type', 'Old/New', 'Duration',\n",
       "       'Town/City', 'District', 'County', 'PPDCategory_Type',\n",
       "       'Record_Status_monthly'],\n",
       "      dtype='object')"
      ]
     },
     "execution_count": 15,
     "metadata": {},
     "output_type": "execute_result"
    }
   ],
   "source": [
    "df.columns"
   ]
  },
  {
   "cell_type": "code",
   "execution_count": 16,
   "id": "fa153dec-e441-4e33-9519-c6dbacef234a",
   "metadata": {},
   "outputs": [
    {
     "name": "stdout",
     "output_type": "stream",
     "text": [
      "Overwriting file.yaml\n"
     ]
    }
   ],
   "source": [
    "%%writefile file.yaml\n",
    "file_type: csv\n",
    "dataset_name: testfile\n",
    "file_name: cleaned_data\n",
    "table_name: edsurv\n",
    "inbound_delimiter: \",\"\n",
    "outbound_delimiter: \"|\"\n",
    "skip_leading_rows: 1\n",
    "columns: \n",
    "    - Price\n",
    "    - Date_of_Transfer\n",
    "    - Property_Type\n",
    "    - old_new\n",
    "    - Duration\n",
    "    - town_city\n",
    "    - District\n",
    "    - County\n",
    "    - PPDCategory_Type\n",
    "    - record_status_monthly"
   ]
  },
  {
   "cell_type": "code",
   "execution_count": 17,
   "id": "b784bf1e-def1-4c8b-b256-c205228d375e",
   "metadata": {},
   "outputs": [],
   "source": [
    "# Read config file\n",
    "import testutility as util\n",
    "config_data = util.read_config_file(\"file.yaml\")"
   ]
  },
  {
   "cell_type": "code",
   "execution_count": 18,
   "id": "1d058288-7522-4a85-980d-5593ee3c516e",
   "metadata": {},
   "outputs": [
    {
     "data": {
      "text/plain": [
       "','"
      ]
     },
     "execution_count": 18,
     "metadata": {},
     "output_type": "execute_result"
    }
   ],
   "source": [
    "config_data['inbound_delimiter']"
   ]
  },
  {
   "cell_type": "code",
   "execution_count": 19,
   "id": "2e6f9b46-613b-4a5f-a39a-1e1cff6ad1bc",
   "metadata": {},
   "outputs": [
    {
     "data": {
      "text/plain": [
       "{'file_type': 'csv',\n",
       " 'dataset_name': 'testfile',\n",
       " 'file_name': 'cleaned_data',\n",
       " 'table_name': 'edsurv',\n",
       " 'inbound_delimiter': ',',\n",
       " 'outbound_delimiter': '|',\n",
       " 'skip_leading_rows': 1,\n",
       " 'columns': ['Price',\n",
       "  'Date_of_Transfer',\n",
       "  'Property_Type',\n",
       "  'old_new',\n",
       "  'Duration',\n",
       "  'town_city',\n",
       "  'District',\n",
       "  'County',\n",
       "  'PPDCategory_Type',\n",
       "  'record_status_monthly']}"
      ]
     },
     "execution_count": 19,
     "metadata": {},
     "output_type": "execute_result"
    }
   ],
   "source": [
    "#inspecting data of config file\n",
    "config_data"
   ]
  },
  {
   "cell_type": "code",
   "execution_count": 20,
   "id": "fab03104-cdaf-4e70-a508-49a856f574ca",
   "metadata": {},
   "outputs": [
    {
     "data": {
      "text/html": [
       "<div>\n",
       "<style scoped>\n",
       "    .dataframe tbody tr th:only-of-type {\n",
       "        vertical-align: middle;\n",
       "    }\n",
       "\n",
       "    .dataframe tbody tr th {\n",
       "        vertical-align: top;\n",
       "    }\n",
       "\n",
       "    .dataframe thead th {\n",
       "        text-align: right;\n",
       "    }\n",
       "</style>\n",
       "<table border=\"1\" class=\"dataframe\">\n",
       "  <thead>\n",
       "    <tr style=\"text-align: right;\">\n",
       "      <th></th>\n",
       "      <th>Price</th>\n",
       "      <th>Date_of_Transfer</th>\n",
       "      <th>Property_Type</th>\n",
       "      <th>Old/New</th>\n",
       "      <th>Duration</th>\n",
       "      <th>Town/City</th>\n",
       "      <th>District</th>\n",
       "      <th>County</th>\n",
       "      <th>PPDCategory_Type</th>\n",
       "      <th>Record_Status_monthly</th>\n",
       "    </tr>\n",
       "  </thead>\n",
       "  <tbody>\n",
       "    <tr>\n",
       "      <th>0</th>\n",
       "      <td>25000</td>\n",
       "      <td>1995-08-18 00:00</td>\n",
       "      <td>T</td>\n",
       "      <td>N</td>\n",
       "      <td>F</td>\n",
       "      <td>OLDHAM</td>\n",
       "      <td>OLDHAM</td>\n",
       "      <td>GREATER MANCHESTER</td>\n",
       "      <td>A</td>\n",
       "      <td>A</td>\n",
       "    </tr>\n",
       "    <tr>\n",
       "      <th>1</th>\n",
       "      <td>42500</td>\n",
       "      <td>1995-08-09 00:00</td>\n",
       "      <td>S</td>\n",
       "      <td>N</td>\n",
       "      <td>F</td>\n",
       "      <td>GRAYS</td>\n",
       "      <td>THURROCK</td>\n",
       "      <td>THURROCK</td>\n",
       "      <td>A</td>\n",
       "      <td>A</td>\n",
       "    </tr>\n",
       "    <tr>\n",
       "      <th>2</th>\n",
       "      <td>45000</td>\n",
       "      <td>1995-06-30 00:00</td>\n",
       "      <td>T</td>\n",
       "      <td>N</td>\n",
       "      <td>F</td>\n",
       "      <td>HIGHBRIDGE</td>\n",
       "      <td>SEDGEMOOR</td>\n",
       "      <td>SOMERSET</td>\n",
       "      <td>A</td>\n",
       "      <td>A</td>\n",
       "    </tr>\n",
       "    <tr>\n",
       "      <th>3</th>\n",
       "      <td>43150</td>\n",
       "      <td>1995-11-24 00:00</td>\n",
       "      <td>T</td>\n",
       "      <td>N</td>\n",
       "      <td>F</td>\n",
       "      <td>BEDFORD</td>\n",
       "      <td>NORTH BEDFORDSHIRE</td>\n",
       "      <td>BEDFORDSHIRE</td>\n",
       "      <td>A</td>\n",
       "      <td>A</td>\n",
       "    </tr>\n",
       "    <tr>\n",
       "      <th>4</th>\n",
       "      <td>18899</td>\n",
       "      <td>1995-06-23 00:00</td>\n",
       "      <td>S</td>\n",
       "      <td>N</td>\n",
       "      <td>F</td>\n",
       "      <td>WAKEFIELD</td>\n",
       "      <td>LEEDS</td>\n",
       "      <td>WEST YORKSHIRE</td>\n",
       "      <td>A</td>\n",
       "      <td>A</td>\n",
       "    </tr>\n",
       "  </tbody>\n",
       "</table>\n",
       "</div>"
      ],
      "text/plain": [
       "   Price  Date_of_Transfer Property_Type Old/New Duration   Town/City  \\\n",
       "0  25000  1995-08-18 00:00             T       N        F      OLDHAM   \n",
       "1  42500  1995-08-09 00:00             S       N        F       GRAYS   \n",
       "2  45000  1995-06-30 00:00             T       N        F  HIGHBRIDGE   \n",
       "3  43150  1995-11-24 00:00             T       N        F     BEDFORD   \n",
       "4  18899  1995-06-23 00:00             S       N        F   WAKEFIELD   \n",
       "\n",
       "             District              County PPDCategory_Type  \\\n",
       "0              OLDHAM  GREATER MANCHESTER                A   \n",
       "1            THURROCK            THURROCK                A   \n",
       "2           SEDGEMOOR            SOMERSET                A   \n",
       "3  NORTH BEDFORDSHIRE        BEDFORDSHIRE                A   \n",
       "4               LEEDS      WEST YORKSHIRE                A   \n",
       "\n",
       "  Record_Status_monthly  \n",
       "0                     A  \n",
       "1                     A  \n",
       "2                     A  \n",
       "3                     A  \n",
       "4                     A  "
      ]
     },
     "execution_count": 20,
     "metadata": {},
     "output_type": "execute_result"
    }
   ],
   "source": [
    "# read the file using config file\n",
    "file_type = config_data['file_type']\n",
    "source_file = \"Data/\" + config_data['file_name'] + f'.{file_type}'\n",
    "#print(\"\",source_file)\n",
    "df = pd.read_csv(source_file,config_data['inbound_delimiter'])\n",
    "df.head()"
   ]
  },
  {
   "cell_type": "code",
   "execution_count": 21,
   "id": "adf84003-55b0-4543-b3ac-00bee6b60136",
   "metadata": {},
   "outputs": [
    {
     "name": "stdout",
     "output_type": "stream",
     "text": [
      "column name and column length validation passed\n"
     ]
    },
    {
     "data": {
      "text/plain": [
       "1"
      ]
     },
     "execution_count": 21,
     "metadata": {},
     "output_type": "execute_result"
    }
   ],
   "source": [
    "#validate the header of the file\n",
    "util.col_header_val(df,config_data)"
   ]
  },
  {
   "cell_type": "code",
   "execution_count": 22,
   "id": "0b19e8d3-14f7-4836-aed9-ab7fdb3fb00e",
   "metadata": {},
   "outputs": [
    {
     "name": "stdout",
     "output_type": "stream",
     "text": [
      "columns of files are: Index(['price', 'date_of_transfer', 'property_type', 'old_new', 'duration',\n",
      "       'town_city', 'district', 'county', 'ppdcategory_type',\n",
      "       'record_status_monthly'],\n",
      "      dtype='object')\n",
      "columns of YAML are: ['Price', 'Date_of_Transfer', 'Property_Type', 'old_new', 'Duration', 'town_city', 'District', 'County', 'PPDCategory_Type', 'record_status_monthly']\n"
     ]
    }
   ],
   "source": [
    "print(\"columns of files are:\" ,df.columns)\n",
    "print(\"columns of YAML are:\" ,config_data['columns'])"
   ]
  },
  {
   "cell_type": "code",
   "execution_count": 23,
   "id": "3f69923a-c760-4cc6-870a-3d22454ba8be",
   "metadata": {},
   "outputs": [
    {
     "name": "stdout",
     "output_type": "stream",
     "text": [
      "column name and column length validation passed\n",
      "col validation passed\n"
     ]
    }
   ],
   "source": [
    "if util.col_header_val(df,config_data)==0:\n",
    "    print(\"validation failed\")\n",
    "    # write code to reject the file\n",
    "else:\n",
    "    print(\"col validation passed\")\n",
    "    # write the code to perform further action\n",
    "    # in the pipleine"
   ]
  },
  {
   "cell_type": "code",
   "execution_count": 25,
   "id": "14ad0e70-f099-456a-9769-14984222a606",
   "metadata": {},
   "outputs": [
    {
     "data": {
      "text/html": [
       "<div>\n",
       "<style scoped>\n",
       "    .dataframe tbody tr th:only-of-type {\n",
       "        vertical-align: middle;\n",
       "    }\n",
       "\n",
       "    .dataframe tbody tr th {\n",
       "        vertical-align: top;\n",
       "    }\n",
       "\n",
       "    .dataframe thead th {\n",
       "        text-align: right;\n",
       "    }\n",
       "</style>\n",
       "<table border=\"1\" class=\"dataframe\">\n",
       "  <thead>\n",
       "    <tr style=\"text-align: right;\">\n",
       "      <th></th>\n",
       "      <th>price</th>\n",
       "      <th>date_of_transfer</th>\n",
       "      <th>property_type</th>\n",
       "      <th>old_new</th>\n",
       "      <th>duration</th>\n",
       "      <th>town_city</th>\n",
       "      <th>district</th>\n",
       "      <th>county</th>\n",
       "      <th>ppdcategory_type</th>\n",
       "      <th>record_status_monthly</th>\n",
       "    </tr>\n",
       "  </thead>\n",
       "  <tbody>\n",
       "    <tr>\n",
       "      <th>0</th>\n",
       "      <td>25000</td>\n",
       "      <td>1995-08-18 00:00</td>\n",
       "      <td>T</td>\n",
       "      <td>N</td>\n",
       "      <td>F</td>\n",
       "      <td>OLDHAM</td>\n",
       "      <td>OLDHAM</td>\n",
       "      <td>GREATER MANCHESTER</td>\n",
       "      <td>A</td>\n",
       "      <td>A</td>\n",
       "    </tr>\n",
       "    <tr>\n",
       "      <th>1</th>\n",
       "      <td>42500</td>\n",
       "      <td>1995-08-09 00:00</td>\n",
       "      <td>S</td>\n",
       "      <td>N</td>\n",
       "      <td>F</td>\n",
       "      <td>GRAYS</td>\n",
       "      <td>THURROCK</td>\n",
       "      <td>THURROCK</td>\n",
       "      <td>A</td>\n",
       "      <td>A</td>\n",
       "    </tr>\n",
       "    <tr>\n",
       "      <th>2</th>\n",
       "      <td>45000</td>\n",
       "      <td>1995-06-30 00:00</td>\n",
       "      <td>T</td>\n",
       "      <td>N</td>\n",
       "      <td>F</td>\n",
       "      <td>HIGHBRIDGE</td>\n",
       "      <td>SEDGEMOOR</td>\n",
       "      <td>SOMERSET</td>\n",
       "      <td>A</td>\n",
       "      <td>A</td>\n",
       "    </tr>\n",
       "    <tr>\n",
       "      <th>3</th>\n",
       "      <td>43150</td>\n",
       "      <td>1995-11-24 00:00</td>\n",
       "      <td>T</td>\n",
       "      <td>N</td>\n",
       "      <td>F</td>\n",
       "      <td>BEDFORD</td>\n",
       "      <td>NORTH BEDFORDSHIRE</td>\n",
       "      <td>BEDFORDSHIRE</td>\n",
       "      <td>A</td>\n",
       "      <td>A</td>\n",
       "    </tr>\n",
       "    <tr>\n",
       "      <th>4</th>\n",
       "      <td>18899</td>\n",
       "      <td>1995-06-23 00:00</td>\n",
       "      <td>S</td>\n",
       "      <td>N</td>\n",
       "      <td>F</td>\n",
       "      <td>WAKEFIELD</td>\n",
       "      <td>LEEDS</td>\n",
       "      <td>WEST YORKSHIRE</td>\n",
       "      <td>A</td>\n",
       "      <td>A</td>\n",
       "    </tr>\n",
       "  </tbody>\n",
       "</table>\n",
       "</div>"
      ],
      "text/plain": [
       "   price  date_of_transfer property_type old_new duration   town_city  \\\n",
       "0  25000  1995-08-18 00:00             T       N        F      OLDHAM   \n",
       "1  42500  1995-08-09 00:00             S       N        F       GRAYS   \n",
       "2  45000  1995-06-30 00:00             T       N        F  HIGHBRIDGE   \n",
       "3  43150  1995-11-24 00:00             T       N        F     BEDFORD   \n",
       "4  18899  1995-06-23 00:00             S       N        F   WAKEFIELD   \n",
       "\n",
       "             district              county ppdcategory_type  \\\n",
       "0              OLDHAM  GREATER MANCHESTER                A   \n",
       "1            THURROCK            THURROCK                A   \n",
       "2           SEDGEMOOR            SOMERSET                A   \n",
       "3  NORTH BEDFORDSHIRE        BEDFORDSHIRE                A   \n",
       "4               LEEDS      WEST YORKSHIRE                A   \n",
       "\n",
       "  record_status_monthly  \n",
       "0                     A  \n",
       "1                     A  \n",
       "2                     A  \n",
       "3                     A  \n",
       "4                     A  "
      ]
     },
     "execution_count": 25,
     "metadata": {},
     "output_type": "execute_result"
    }
   ],
   "source": [
    "df.head()"
   ]
  },
  {
   "cell_type": "code",
   "execution_count": 26,
   "id": "75fd3248-a229-4298-94ea-e43dc4f66afb",
   "metadata": {},
   "outputs": [
    {
     "name": "stdout",
     "output_type": "stream",
     "text": [
      "<class 'pandas.core.frame.DataFrame'>\n",
      "RangeIndex: 22489348 entries, 0 to 22489347\n",
      "Data columns (total 10 columns):\n",
      " #   Column                 Dtype \n",
      "---  ------                 ----- \n",
      " 0   price                  int64 \n",
      " 1   date_of_transfer       object\n",
      " 2   property_type          object\n",
      " 3   old_new                object\n",
      " 4   duration               object\n",
      " 5   town_city              object\n",
      " 6   district               object\n",
      " 7   county                 object\n",
      " 8   ppdcategory_type       object\n",
      " 9   record_status_monthly  object\n",
      "dtypes: int64(1), object(9)\n",
      "memory usage: 1.7+ GB\n"
     ]
    }
   ],
   "source": [
    "df.info()"
   ]
  },
  {
   "cell_type": "code",
   "execution_count": 27,
   "id": "86469106-e12a-4707-8406-fdaac34292f2",
   "metadata": {},
   "outputs": [
    {
     "data": {
      "text/plain": [
       "(22489348, 10)"
      ]
     },
     "execution_count": 27,
     "metadata": {},
     "output_type": "execute_result"
    }
   ],
   "source": [
    "df.shape"
   ]
  },
  {
   "cell_type": "code",
   "execution_count": 28,
   "id": "a3c5637e-7913-441d-bd9a-2b0b612fe3f0",
   "metadata": {},
   "outputs": [
    {
     "data": {
      "text/plain": [
       "Index(['price', 'date_of_transfer', 'property_type', 'old_new', 'duration',\n",
       "       'town_city', 'district', 'county', 'ppdcategory_type',\n",
       "       'record_status_monthly'],\n",
       "      dtype='object')"
      ]
     },
     "execution_count": 28,
     "metadata": {},
     "output_type": "execute_result"
    }
   ],
   "source": [
    "df.columns"
   ]
  },
  {
   "cell_type": "code",
   "execution_count": 30,
   "id": "a0954a29-ba59-4f17-be21-8c606989cb64",
   "metadata": {},
   "outputs": [
    {
     "data": {
      "text/plain": [
       "1551090637"
      ]
     },
     "execution_count": 30,
     "metadata": {},
     "output_type": "execute_result"
    }
   ],
   "source": [
    "#Size of the file\n",
    "os.path.getsize('Data/cleaned_data.csv')"
   ]
  },
  {
   "cell_type": "code",
   "execution_count": 31,
   "id": "b19b1f1e-4a09-4e06-9558-b0e5a1592321",
   "metadata": {},
   "outputs": [],
   "source": [
    "import datetime\n",
    "import csv\n",
    "import gzip\n",
    "\n",
    "from dask import dataframe as dd\n",
    "df = dd.read_csv('Data/cleaned_data.csv')"
   ]
  },
  {
   "cell_type": "code",
   "execution_count": 33,
   "id": "2f8a1978-a255-461e-90df-3ef5c65ab754",
   "metadata": {},
   "outputs": [
    {
     "data": {
      "text/plain": [
       "['C:\\\\Users\\\\amr_a\\\\Data-Glacier2\\\\Data-Glacier-Internship\\\\Data-Glacier-Week6\\\\compressed.gz\\\\00.part',\n",
       " 'C:\\\\Users\\\\amr_a\\\\Data-Glacier2\\\\Data-Glacier-Internship\\\\Data-Glacier-Week6\\\\compressed.gz\\\\01.part',\n",
       " 'C:\\\\Users\\\\amr_a\\\\Data-Glacier2\\\\Data-Glacier-Internship\\\\Data-Glacier-Week6\\\\compressed.gz\\\\02.part',\n",
       " 'C:\\\\Users\\\\amr_a\\\\Data-Glacier2\\\\Data-Glacier-Internship\\\\Data-Glacier-Week6\\\\compressed.gz\\\\03.part',\n",
       " 'C:\\\\Users\\\\amr_a\\\\Data-Glacier2\\\\Data-Glacier-Internship\\\\Data-Glacier-Week6\\\\compressed.gz\\\\04.part',\n",
       " 'C:\\\\Users\\\\amr_a\\\\Data-Glacier2\\\\Data-Glacier-Internship\\\\Data-Glacier-Week6\\\\compressed.gz\\\\05.part',\n",
       " 'C:\\\\Users\\\\amr_a\\\\Data-Glacier2\\\\Data-Glacier-Internship\\\\Data-Glacier-Week6\\\\compressed.gz\\\\06.part',\n",
       " 'C:\\\\Users\\\\amr_a\\\\Data-Glacier2\\\\Data-Glacier-Internship\\\\Data-Glacier-Week6\\\\compressed.gz\\\\07.part',\n",
       " 'C:\\\\Users\\\\amr_a\\\\Data-Glacier2\\\\Data-Glacier-Internship\\\\Data-Glacier-Week6\\\\compressed.gz\\\\08.part',\n",
       " 'C:\\\\Users\\\\amr_a\\\\Data-Glacier2\\\\Data-Glacier-Internship\\\\Data-Glacier-Week6\\\\compressed.gz\\\\09.part',\n",
       " 'C:\\\\Users\\\\amr_a\\\\Data-Glacier2\\\\Data-Glacier-Internship\\\\Data-Glacier-Week6\\\\compressed.gz\\\\10.part',\n",
       " 'C:\\\\Users\\\\amr_a\\\\Data-Glacier2\\\\Data-Glacier-Internship\\\\Data-Glacier-Week6\\\\compressed.gz\\\\11.part',\n",
       " 'C:\\\\Users\\\\amr_a\\\\Data-Glacier2\\\\Data-Glacier-Internship\\\\Data-Glacier-Week6\\\\compressed.gz\\\\12.part',\n",
       " 'C:\\\\Users\\\\amr_a\\\\Data-Glacier2\\\\Data-Glacier-Internship\\\\Data-Glacier-Week6\\\\compressed.gz\\\\13.part',\n",
       " 'C:\\\\Users\\\\amr_a\\\\Data-Glacier2\\\\Data-Glacier-Internship\\\\Data-Glacier-Week6\\\\compressed.gz\\\\14.part',\n",
       " 'C:\\\\Users\\\\amr_a\\\\Data-Glacier2\\\\Data-Glacier-Internship\\\\Data-Glacier-Week6\\\\compressed.gz\\\\15.part',\n",
       " 'C:\\\\Users\\\\amr_a\\\\Data-Glacier2\\\\Data-Glacier-Internship\\\\Data-Glacier-Week6\\\\compressed.gz\\\\16.part',\n",
       " 'C:\\\\Users\\\\amr_a\\\\Data-Glacier2\\\\Data-Glacier-Internship\\\\Data-Glacier-Week6\\\\compressed.gz\\\\17.part',\n",
       " 'C:\\\\Users\\\\amr_a\\\\Data-Glacier2\\\\Data-Glacier-Internship\\\\Data-Glacier-Week6\\\\compressed.gz\\\\18.part',\n",
       " 'C:\\\\Users\\\\amr_a\\\\Data-Glacier2\\\\Data-Glacier-Internship\\\\Data-Glacier-Week6\\\\compressed.gz\\\\19.part',\n",
       " 'C:\\\\Users\\\\amr_a\\\\Data-Glacier2\\\\Data-Glacier-Internship\\\\Data-Glacier-Week6\\\\compressed.gz\\\\20.part',\n",
       " 'C:\\\\Users\\\\amr_a\\\\Data-Glacier2\\\\Data-Glacier-Internship\\\\Data-Glacier-Week6\\\\compressed.gz\\\\21.part',\n",
       " 'C:\\\\Users\\\\amr_a\\\\Data-Glacier2\\\\Data-Glacier-Internship\\\\Data-Glacier-Week6\\\\compressed.gz\\\\22.part',\n",
       " 'C:\\\\Users\\\\amr_a\\\\Data-Glacier2\\\\Data-Glacier-Internship\\\\Data-Glacier-Week6\\\\compressed.gz\\\\23.part']"
      ]
     },
     "execution_count": 33,
     "metadata": {},
     "output_type": "execute_result"
    }
   ],
   "source": [
    "# Write csv in gz format in pipe separated text file (|)\n",
    "df.to_csv('compressed.gz',\n",
    "          sep = '|',\n",
    "          header = True,\n",
    "          index = False,\n",
    "          quoting = csv.QUOTE_ALL,\n",
    "          compression = 'gzip',\n",
    "          quotechar = '\"',\n",
    "          doublequote = True,\n",
    "          line_terminator = '\\n')"
   ]
  },
  {
   "cell_type": "code",
   "execution_count": null,
   "id": "cce74bb3-3ddb-4d09-8901-07e35c730ac9",
   "metadata": {},
   "outputs": [],
   "source": []
  }
 ],
 "metadata": {
  "kernelspec": {
   "display_name": "Python 3 (ipykernel)",
   "language": "python",
   "name": "python3"
  },
  "language_info": {
   "codemirror_mode": {
    "name": "ipython",
    "version": 3
   },
   "file_extension": ".py",
   "mimetype": "text/x-python",
   "name": "python",
   "nbconvert_exporter": "python",
   "pygments_lexer": "ipython3",
   "version": "3.9.12"
  }
 },
 "nbformat": 4,
 "nbformat_minor": 5
}
