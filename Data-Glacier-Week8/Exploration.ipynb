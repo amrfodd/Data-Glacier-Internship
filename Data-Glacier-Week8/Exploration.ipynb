{
 "cells": [
  {
   "cell_type": "code",
   "execution_count": 55,
   "id": "72657440-62b4-450c-bfa7-93d1d8e82dc4",
   "metadata": {},
   "outputs": [],
   "source": [
    "from os import listdir\n",
    "from os.path import isfile, join\n",
    "import string\n",
    "import pandas as pd\n",
    "import numpy as np"
   ]
  },
  {
   "cell_type": "code",
   "execution_count": 56,
   "id": "f493bb0a-7619-468f-a5ff-5f3ccd46f62d",
   "metadata": {},
   "outputs": [],
   "source": [
    "my_path = '20_newsgroups'"
   ]
  },
  {
   "cell_type": "code",
   "execution_count": 57,
   "id": "9e5ec731-78b7-49d1-ba26-893ed9251bf3",
   "metadata": {},
   "outputs": [
    {
     "data": {
      "text/plain": [
       "['alt.atheism',\n",
       " 'comp.graphics',\n",
       " 'comp.os.ms-windows.misc',\n",
       " 'comp.sys.ibm.pc.hardware',\n",
       " 'comp.sys.mac.hardware',\n",
       " 'comp.windows.x',\n",
       " 'misc.forsale',\n",
       " 'rec.autos',\n",
       " 'rec.motorcycles',\n",
       " 'rec.sport.baseball',\n",
       " 'rec.sport.hockey',\n",
       " 'sci.crypt',\n",
       " 'sci.electronics',\n",
       " 'sci.med',\n",
       " 'sci.space',\n",
       " 'soc.religion.christian',\n",
       " 'talk.politics.guns',\n",
       " 'talk.politics.mideast',\n",
       " 'talk.politics.misc',\n",
       " 'talk.religion.misc']"
      ]
     },
     "execution_count": 57,
     "metadata": {},
     "output_type": "execute_result"
    }
   ],
   "source": [
    "files = listdir(my_path)\n",
    "files"
   ]
  },
  {
   "cell_type": "code",
   "execution_count": 58,
   "id": "cfdd5eab-e818-4bc2-ba1d-253d8d82ad92",
   "metadata": {},
   "outputs": [
    {
     "name": "stdout",
     "output_type": "stream",
     "text": [
      "alt.atheism\n",
      "comp.graphics\n",
      "comp.os.ms-windows.misc\n",
      "comp.sys.ibm.pc.hardware\n",
      "comp.sys.mac.hardware\n",
      "comp.windows.x\n",
      "misc.forsale\n",
      "rec.autos\n",
      "rec.motorcycles\n",
      "rec.sport.baseball\n",
      "rec.sport.hockey\n",
      "sci.crypt\n",
      "sci.electronics\n",
      "sci.med\n",
      "sci.space\n",
      "soc.religion.christian\n",
      "talk.politics.guns\n",
      "talk.politics.mideast\n",
      "talk.politics.misc\n",
      "talk.religion.misc\n"
     ]
    }
   ],
   "source": [
    "pathes = []\n",
    "labels = []\n",
    "\n",
    "for file in files:\n",
    "    print(file)\n",
    "    fis = listdir(my_path + '/' +file)\n",
    "    paths = []\n",
    "    loc = []\n",
    "    for fi in fis:\n",
    "        pathes.append(my_path + \"/\" + file + \"/\" + fi)\n",
    "        loc.append(file)\n",
    "    paths.append(pathes)\n",
    "    labels.append(loc)"
   ]
  },
  {
   "cell_type": "code",
   "execution_count": 78,
   "id": "c86e5ace-b835-4740-a9e0-b9668ab893c3",
   "metadata": {},
   "outputs": [],
   "source": [
    "Class = []\n",
    "for label in range(len(labels)):\n",
    "    for lab in range(len(labels[label])):\n",
    "        Class.append(labels[label][lab])\n",
    "    "
   ]
  },
  {
   "cell_type": "code",
   "execution_count": 83,
   "id": "d853d828-e88d-4be8-a575-2cf0af43dd9a",
   "metadata": {},
   "outputs": [],
   "source": [
    "paths = paths[0]"
   ]
  },
  {
   "cell_type": "code",
   "execution_count": 87,
   "id": "3588f9ea-3903-4aa0-953f-87c5a6890069",
   "metadata": {},
   "outputs": [
    {
     "data": {
      "text/html": [
       "<div>\n",
       "<style scoped>\n",
       "    .dataframe tbody tr th:only-of-type {\n",
       "        vertical-align: middle;\n",
       "    }\n",
       "\n",
       "    .dataframe tbody tr th {\n",
       "        vertical-align: top;\n",
       "    }\n",
       "\n",
       "    .dataframe thead th {\n",
       "        text-align: right;\n",
       "    }\n",
       "</style>\n",
       "<table border=\"1\" class=\"dataframe\">\n",
       "  <thead>\n",
       "    <tr style=\"text-align: right;\">\n",
       "      <th></th>\n",
       "      <th>Articles</th>\n",
       "      <th>Class</th>\n",
       "    </tr>\n",
       "  </thead>\n",
       "  <tbody>\n",
       "    <tr>\n",
       "      <th>0</th>\n",
       "      <td>20_newsgroups/alt.atheism/49960</td>\n",
       "      <td>alt.atheism</td>\n",
       "    </tr>\n",
       "    <tr>\n",
       "      <th>1</th>\n",
       "      <td>20_newsgroups/alt.atheism/51060</td>\n",
       "      <td>alt.atheism</td>\n",
       "    </tr>\n",
       "    <tr>\n",
       "      <th>2</th>\n",
       "      <td>20_newsgroups/alt.atheism/51119</td>\n",
       "      <td>alt.atheism</td>\n",
       "    </tr>\n",
       "    <tr>\n",
       "      <th>3</th>\n",
       "      <td>20_newsgroups/alt.atheism/51120</td>\n",
       "      <td>alt.atheism</td>\n",
       "    </tr>\n",
       "    <tr>\n",
       "      <th>4</th>\n",
       "      <td>20_newsgroups/alt.atheism/51121</td>\n",
       "      <td>alt.atheism</td>\n",
       "    </tr>\n",
       "  </tbody>\n",
       "</table>\n",
       "</div>"
      ],
      "text/plain": [
       "                          Articles        Class\n",
       "0  20_newsgroups/alt.atheism/49960  alt.atheism\n",
       "1  20_newsgroups/alt.atheism/51060  alt.atheism\n",
       "2  20_newsgroups/alt.atheism/51119  alt.atheism\n",
       "3  20_newsgroups/alt.atheism/51120  alt.atheism\n",
       "4  20_newsgroups/alt.atheism/51121  alt.atheism"
      ]
     },
     "execution_count": 87,
     "metadata": {},
     "output_type": "execute_result"
    }
   ],
   "source": [
    "d = {'Articles':paths,'Class':Class}\n",
    "\n",
    "df = pd.DataFrame(d)\n",
    "\n",
    "df.head()"
   ]
  },
  {
   "cell_type": "code",
   "execution_count": 88,
   "id": "6bca3305-06d9-4c0d-849c-e56f2c235f52",
   "metadata": {},
   "outputs": [],
   "source": [
    "df['Class'] = df['Class'].apply(lambda x: x.split('.')[-1])"
   ]
  },
  {
   "cell_type": "code",
   "execution_count": 91,
   "id": "05dba916-e2c9-4680-8b12-0178f81363de",
   "metadata": {},
   "outputs": [
    {
     "data": {
      "text/plain": [
       "(                          Articles    Class\n",
       " 0  20_newsgroups/alt.atheism/49960  atheism\n",
       " 1  20_newsgroups/alt.atheism/51060  atheism\n",
       " 2  20_newsgroups/alt.atheism/51119  atheism\n",
       " 3  20_newsgroups/alt.atheism/51120  atheism\n",
       " 4  20_newsgroups/alt.atheism/51121  atheism,\n",
       "                                      Articles Class\n",
       " 19992  20_newsgroups/talk.religion.misc/84566  misc\n",
       " 19993  20_newsgroups/talk.religion.misc/84567  misc\n",
       " 19994  20_newsgroups/talk.religion.misc/84568  misc\n",
       " 19995  20_newsgroups/talk.religion.misc/84569  misc\n",
       " 19996  20_newsgroups/talk.religion.misc/84570  misc)"
      ]
     },
     "execution_count": 91,
     "metadata": {},
     "output_type": "execute_result"
    }
   ],
   "source": [
    "df.head(), df.tail()"
   ]
  },
  {
   "cell_type": "code",
   "execution_count": 94,
   "id": "8800c5ef-95d2-485d-8f78-95aad792fa7c",
   "metadata": {},
   "outputs": [],
   "source": [
    "def reader(path):\n",
    "    with open(path) as fp:\n",
    "        lines = fp.readlines()\n",
    "    return lines"
   ]
  },
  {
   "cell_type": "code",
   "execution_count": 95,
   "id": "0f60e81a-02d8-463e-bb56-2f49ad73d25e",
   "metadata": {},
   "outputs": [],
   "source": [
    "df['Articles'] = df['Articles'].apply(lambda x: reader(x))"
   ]
  },
  {
   "cell_type": "code",
   "execution_count": 96,
   "id": "ed8e6005-a460-4bc2-b25d-3b79e55eb94c",
   "metadata": {},
   "outputs": [
    {
     "data": {
      "text/html": [
       "<div>\n",
       "<style scoped>\n",
       "    .dataframe tbody tr th:only-of-type {\n",
       "        vertical-align: middle;\n",
       "    }\n",
       "\n",
       "    .dataframe tbody tr th {\n",
       "        vertical-align: top;\n",
       "    }\n",
       "\n",
       "    .dataframe thead th {\n",
       "        text-align: right;\n",
       "    }\n",
       "</style>\n",
       "<table border=\"1\" class=\"dataframe\">\n",
       "  <thead>\n",
       "    <tr style=\"text-align: right;\">\n",
       "      <th></th>\n",
       "      <th>Articles</th>\n",
       "      <th>Class</th>\n",
       "    </tr>\n",
       "  </thead>\n",
       "  <tbody>\n",
       "    <tr>\n",
       "      <th>0</th>\n",
       "      <td>[Xref: cantaloupe.srv.cs.cmu.edu alt.atheism:4...</td>\n",
       "      <td>atheism</td>\n",
       "    </tr>\n",
       "    <tr>\n",
       "      <th>1</th>\n",
       "      <td>[Xref: cantaloupe.srv.cs.cmu.edu alt.atheism:5...</td>\n",
       "      <td>atheism</td>\n",
       "    </tr>\n",
       "    <tr>\n",
       "      <th>2</th>\n",
       "      <td>[Newsgroups: alt.atheism\\n, Path: cantaloupe.s...</td>\n",
       "      <td>atheism</td>\n",
       "    </tr>\n",
       "    <tr>\n",
       "      <th>3</th>\n",
       "      <td>[Xref: cantaloupe.srv.cs.cmu.edu alt.atheism:5...</td>\n",
       "      <td>atheism</td>\n",
       "    </tr>\n",
       "    <tr>\n",
       "      <th>4</th>\n",
       "      <td>[Xref: cantaloupe.srv.cs.cmu.edu alt.atheism:5...</td>\n",
       "      <td>atheism</td>\n",
       "    </tr>\n",
       "  </tbody>\n",
       "</table>\n",
       "</div>"
      ],
      "text/plain": [
       "                                            Articles    Class\n",
       "0  [Xref: cantaloupe.srv.cs.cmu.edu alt.atheism:4...  atheism\n",
       "1  [Xref: cantaloupe.srv.cs.cmu.edu alt.atheism:5...  atheism\n",
       "2  [Newsgroups: alt.atheism\\n, Path: cantaloupe.s...  atheism\n",
       "3  [Xref: cantaloupe.srv.cs.cmu.edu alt.atheism:5...  atheism\n",
       "4  [Xref: cantaloupe.srv.cs.cmu.edu alt.atheism:5...  atheism"
      ]
     },
     "execution_count": 96,
     "metadata": {},
     "output_type": "execute_result"
    }
   ],
   "source": [
    "df.head()"
   ]
  },
  {
   "cell_type": "code",
   "execution_count": null,
   "id": "ffd57fdd-dee4-4606-bae5-84e8ef058354",
   "metadata": {},
   "outputs": [],
   "source": []
  }
 ],
 "metadata": {
  "kernelspec": {
   "display_name": "Python 3 (ipykernel)",
   "language": "python",
   "name": "python3"
  },
  "language_info": {
   "codemirror_mode": {
    "name": "ipython",
    "version": 3
   },
   "file_extension": ".py",
   "mimetype": "text/x-python",
   "name": "python",
   "nbconvert_exporter": "python",
   "pygments_lexer": "ipython3",
   "version": "3.9.12"
  }
 },
 "nbformat": 4,
 "nbformat_minor": 5
}
