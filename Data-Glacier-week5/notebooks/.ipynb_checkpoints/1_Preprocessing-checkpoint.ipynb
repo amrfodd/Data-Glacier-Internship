{
 "cells": [
  {
   "cell_type": "markdown",
   "id": "891f6077",
   "metadata": {},
   "source": [
    "### 1) Import libraries\n"
   ]
  },
  {
   "cell_type": "code",
   "execution_count": 4,
   "id": "b00ae633",
   "metadata": {},
   "outputs": [],
   "source": [
    "import pandas as pd\n",
    "import numpy as np \n",
    "import matplotlib.pyplot as plt\n",
    "%matplotlib inline\n",
    "import seaborn as sns\n",
    "plt.style.use('ggplot')\n",
    "sns.set_style('white')"
   ]
  },
  {
   "cell_type": "code",
   "execution_count": 6,
   "id": "0b63298f",
   "metadata": {},
   "outputs": [
    {
     "name": "stderr",
     "output_type": "stream",
     "text": [
      "[nltk_data] Downloading package stopwords to\n",
      "[nltk_data]     C:\\Users\\amr_a\\AppData\\Roaming\\nltk_data...\n",
      "[nltk_data]   Package stopwords is already up-to-date!\n"
     ]
    }
   ],
   "source": [
    "import re \n",
    "import nltk \n",
    "import spacy\n",
    "import string\n",
    "import itertools\n",
    "import contractions\n",
    "from bs4 import BeautifulSoup\n",
    "nltk.download('stopwords')\n",
    "from nltk.corpus import stopwords\n",
    "from spacy.lang.en.stop_words import STOP_WORDS\n",
    "from nltk.tokenize import RegexpTokenizer\n",
    "from collections import Counter \n",
    "from nltk.tokenize import word_tokenize\n",
    "from nltk.stem import WordNetLemmatizer\n",
    "from nltk.corpus import stopwords\n",
    "\n",
    "import statsmodels.api as sm\n",
    "\n",
    "from sklearn.pipeline import Pipeline\n",
    "\n",
    "from sklearn.feature_extraction.text import CountVectorizer, TfidfTransformer\n",
    "\n",
    "from sklearn.model_selection import StratifiedKFold\n",
    "from sklearn.model_selection import cross_val_score\n",
    "from sklearn.model_selection import GridSearchCV\n",
    "from sklearn.model_selection import learning_curve\n",
    "\n",
    "\n",
    "from sklearn.naive_bayes import MultinomialNB\n",
    "from sklearn.svm import SVC\n",
    "from sklearn.ensemble import RandomForestClassifier\n",
    "from sklearn.decomposition import TruncatedSVD\n",
    "\n",
    "\n",
    "\n",
    "from sklearn.metrics import confusion_matrix\n",
    "from sklearn.metrics import classification_report\n",
    "\n"
   ]
  },
  {
   "cell_type": "markdown",
   "id": "37a74e2e",
   "metadata": {},
   "source": [
    "### 2) Data Loading"
   ]
  },
  {
   "cell_type": "code",
   "execution_count": 14,
   "id": "ea493b3c",
   "metadata": {},
   "outputs": [
    {
     "data": {
      "text/html": [
       "<div>\n",
       "<style scoped>\n",
       "    .dataframe tbody tr th:only-of-type {\n",
       "        vertical-align: middle;\n",
       "    }\n",
       "\n",
       "    .dataframe tbody tr th {\n",
       "        vertical-align: top;\n",
       "    }\n",
       "\n",
       "    .dataframe thead th {\n",
       "        text-align: right;\n",
       "    }\n",
       "</style>\n",
       "<table border=\"1\" class=\"dataframe\">\n",
       "  <thead>\n",
       "    <tr style=\"text-align: right;\">\n",
       "      <th></th>\n",
       "      <th>v1</th>\n",
       "      <th>v2</th>\n",
       "      <th>Unnamed: 2</th>\n",
       "      <th>Unnamed: 3</th>\n",
       "      <th>Unnamed: 4</th>\n",
       "    </tr>\n",
       "  </thead>\n",
       "  <tbody>\n",
       "    <tr>\n",
       "      <th>0</th>\n",
       "      <td>ham</td>\n",
       "      <td>Go until jurong point, crazy.. Available only ...</td>\n",
       "      <td>NaN</td>\n",
       "      <td>NaN</td>\n",
       "      <td>NaN</td>\n",
       "    </tr>\n",
       "    <tr>\n",
       "      <th>1</th>\n",
       "      <td>ham</td>\n",
       "      <td>Ok lar... Joking wif u oni...</td>\n",
       "      <td>NaN</td>\n",
       "      <td>NaN</td>\n",
       "      <td>NaN</td>\n",
       "    </tr>\n",
       "    <tr>\n",
       "      <th>2</th>\n",
       "      <td>spam</td>\n",
       "      <td>Free entry in 2 a wkly comp to win FA Cup fina...</td>\n",
       "      <td>NaN</td>\n",
       "      <td>NaN</td>\n",
       "      <td>NaN</td>\n",
       "    </tr>\n",
       "    <tr>\n",
       "      <th>3</th>\n",
       "      <td>ham</td>\n",
       "      <td>U dun say so early hor... U c already then say...</td>\n",
       "      <td>NaN</td>\n",
       "      <td>NaN</td>\n",
       "      <td>NaN</td>\n",
       "    </tr>\n",
       "    <tr>\n",
       "      <th>4</th>\n",
       "      <td>ham</td>\n",
       "      <td>Nah I don't think he goes to usf, he lives aro...</td>\n",
       "      <td>NaN</td>\n",
       "      <td>NaN</td>\n",
       "      <td>NaN</td>\n",
       "    </tr>\n",
       "  </tbody>\n",
       "</table>\n",
       "</div>"
      ],
      "text/plain": [
       "     v1                                                 v2 Unnamed: 2  \\\n",
       "0   ham  Go until jurong point, crazy.. Available only ...        NaN   \n",
       "1   ham                      Ok lar... Joking wif u oni...        NaN   \n",
       "2  spam  Free entry in 2 a wkly comp to win FA Cup fina...        NaN   \n",
       "3   ham  U dun say so early hor... U c already then say...        NaN   \n",
       "4   ham  Nah I don't think he goes to usf, he lives aro...        NaN   \n",
       "\n",
       "  Unnamed: 3 Unnamed: 4  \n",
       "0        NaN        NaN  \n",
       "1        NaN        NaN  \n",
       "2        NaN        NaN  \n",
       "3        NaN        NaN  \n",
       "4        NaN        NaN  "
      ]
     },
     "execution_count": 14,
     "metadata": {},
     "output_type": "execute_result"
    }
   ],
   "source": [
    "# Read the dataset from csv file\n",
    "df = pd.read_csv(\"../Data/spam.csv\", encoding = 'latin-1')\n",
    "df.head()"
   ]
  },
  {
   "cell_type": "code",
   "execution_count": 16,
   "id": "599785cc-bc5f-49f7-af87-849225b744a6",
   "metadata": {},
   "outputs": [
    {
     "data": {
      "text/plain": [
       "(5572, 5)"
      ]
     },
     "execution_count": 16,
     "metadata": {},
     "output_type": "execute_result"
    }
   ],
   "source": [
    "df.shape"
   ]
  },
  {
   "cell_type": "code",
   "execution_count": 18,
   "id": "50c76679-5a60-4d97-b878-df14f795192f",
   "metadata": {},
   "outputs": [
    {
     "data": {
      "text/plain": [
       "Index(['v1', 'v2', 'Unnamed: 2', 'Unnamed: 3', 'Unnamed: 4'], dtype='object')"
      ]
     },
     "execution_count": 18,
     "metadata": {},
     "output_type": "execute_result"
    }
   ],
   "source": [
    "df.columns"
   ]
  },
  {
   "cell_type": "code",
   "execution_count": 19,
   "id": "146e85ca-e4f8-4100-a733-ed61fec435e4",
   "metadata": {},
   "outputs": [],
   "source": [
    "df = df.drop(['Unnamed: 2', 'Unnamed: 3', 'Unnamed: 4'], axis = 1)"
   ]
  },
  {
   "cell_type": "code",
   "execution_count": 20,
   "id": "52096e6f-4f53-41b8-be88-8515e6934149",
   "metadata": {},
   "outputs": [
    {
     "data": {
      "text/html": [
       "<div>\n",
       "<style scoped>\n",
       "    .dataframe tbody tr th:only-of-type {\n",
       "        vertical-align: middle;\n",
       "    }\n",
       "\n",
       "    .dataframe tbody tr th {\n",
       "        vertical-align: top;\n",
       "    }\n",
       "\n",
       "    .dataframe thead th {\n",
       "        text-align: right;\n",
       "    }\n",
       "</style>\n",
       "<table border=\"1\" class=\"dataframe\">\n",
       "  <thead>\n",
       "    <tr style=\"text-align: right;\">\n",
       "      <th></th>\n",
       "      <th>class</th>\n",
       "      <th>Message</th>\n",
       "    </tr>\n",
       "  </thead>\n",
       "  <tbody>\n",
       "    <tr>\n",
       "      <th>0</th>\n",
       "      <td>ham</td>\n",
       "      <td>Go until jurong point, crazy.. Available only ...</td>\n",
       "    </tr>\n",
       "    <tr>\n",
       "      <th>1</th>\n",
       "      <td>ham</td>\n",
       "      <td>Ok lar... Joking wif u oni...</td>\n",
       "    </tr>\n",
       "    <tr>\n",
       "      <th>2</th>\n",
       "      <td>spam</td>\n",
       "      <td>Free entry in 2 a wkly comp to win FA Cup fina...</td>\n",
       "    </tr>\n",
       "    <tr>\n",
       "      <th>3</th>\n",
       "      <td>ham</td>\n",
       "      <td>U dun say so early hor... U c already then say...</td>\n",
       "    </tr>\n",
       "    <tr>\n",
       "      <th>4</th>\n",
       "      <td>ham</td>\n",
       "      <td>Nah I don't think he goes to usf, he lives aro...</td>\n",
       "    </tr>\n",
       "  </tbody>\n",
       "</table>\n",
       "</div>"
      ],
      "text/plain": [
       "  class                                            Message\n",
       "0   ham  Go until jurong point, crazy.. Available only ...\n",
       "1   ham                      Ok lar... Joking wif u oni...\n",
       "2  spam  Free entry in 2 a wkly comp to win FA Cup fina...\n",
       "3   ham  U dun say so early hor... U c already then say...\n",
       "4   ham  Nah I don't think he goes to usf, he lives aro..."
      ]
     },
     "execution_count": 20,
     "metadata": {},
     "output_type": "execute_result"
    }
   ],
   "source": [
    "df.rename(columns={'v1': 'class', 'v2': 'Message'}, inplace=True)\n",
    "df.head()"
   ]
  },
  {
   "cell_type": "code",
   "execution_count": 25,
   "id": "3db4c321",
   "metadata": {},
   "outputs": [
    {
     "name": "stdout",
     "output_type": "stream",
     "text": [
      "Go until jurong point, crazy.. Available only in bugis n great world la e buffet... Cine there got amore wat..., ham\n",
      "Ok lar... Joking wif u oni..., ham\n",
      "Free entry in 2 a wkly comp to win FA Cup final tkts 21st May 2005. Text FA to 87121 to receive entry question(std txt rate)T&C's apply 08452810075over18's, spam\n",
      "U dun say so early hor... U c already then say..., ham\n",
      "Nah I don't think he goes to usf, he lives around here though, ham\n",
      "FreeMsg Hey there darling it's been 3 week's now and no word back! I'd like some fun you up for it still? Tb ok! XxX std chgs to send, å£1.50 to rcv, spam\n",
      "Even my brother is not like to speak with me. They treat me like aids patent., ham\n",
      "As per your request 'Melle Melle (Oru Minnaminunginte Nurungu Vettam)' has been set as your callertune for all Callers. Press *9 to copy your friends Callertune, ham\n",
      "WINNER!! As a valued network customer you have been selected to receivea å£900 prize reward! To claim call 09061701461. Claim code KL341. Valid 12 hours only., spam\n",
      "Had your mobile 11 months or more? U R entitled to Update to the latest colour mobiles with camera for Free! Call The Mobile Update Co FREE on 08002986030, spam\n"
     ]
    }
   ],
   "source": [
    "for row in df.head(10).iterrows():\n",
    "    print(row[1]['Message'] +', '+  row[1]['class']) "
   ]
  },
  {
   "cell_type": "markdown",
   "id": "ccf071b8",
   "metadata": {},
   "source": [
    "### 3) EDA"
   ]
  },
  {
   "cell_type": "code",
   "execution_count": 33,
   "id": "209a783c",
   "metadata": {},
   "outputs": [
    {
     "data": {
      "text/plain": [
       "['ham', 'spam']"
      ]
     },
     "execution_count": 33,
     "metadata": {},
     "output_type": "execute_result"
    }
   ],
   "source": [
    "# Find all category\n",
    "classes = list(df['class'].unique())\n",
    "classes"
   ]
  },
  {
   "cell_type": "code",
   "execution_count": 34,
   "id": "633e0772",
   "metadata": {},
   "outputs": [
    {
     "name": "stdout",
     "output_type": "stream",
     "text": [
      "Train Total Categories: 2\n",
      "class\n",
      "ham     4825\n",
      "spam     747\n",
      "dtype: int64\n"
     ]
    }
   ],
   "source": [
    "clas = df.groupby('class')\n",
    "print(\"Train Total Categories:\", clas.ngroups)\n",
    "print(clas.size())"
   ]
  },
  {
   "cell_type": "code",
   "execution_count": 35,
   "id": "536dd4a9",
   "metadata": {},
   "outputs": [
    {
     "data": {
      "text/plain": [
       "class      0\n",
       "Message    0\n",
       "dtype: int64"
      ]
     },
     "execution_count": 35,
     "metadata": {},
     "output_type": "execute_result"
    }
   ],
   "source": [
    "# Check null values\n",
    "df.isnull().sum()"
   ]
  },
  {
   "cell_type": "code",
   "execution_count": 36,
   "id": "b9ef7e2e",
   "metadata": {},
   "outputs": [
    {
     "data": {
      "text/plain": [
       "414"
      ]
     },
     "execution_count": 36,
     "metadata": {},
     "output_type": "execute_result"
    }
   ],
   "source": [
    "df.duplicated().sum()"
   ]
  },
  {
   "cell_type": "code",
   "execution_count": 37,
   "id": "243ee742",
   "metadata": {
    "scrolled": true
   },
   "outputs": [],
   "source": [
    "df.drop_duplicates(inplace=True)"
   ]
  },
  {
   "cell_type": "markdown",
   "id": "3a5c00d3",
   "metadata": {},
   "source": [
    "### 4. Visualizationm"
   ]
  },
  {
   "cell_type": "code",
   "execution_count": 41,
   "id": "e32f126f",
   "metadata": {},
   "outputs": [
    {
     "data": {
      "image/png": "[encoded data removed]",
      "text/plain": [
       "<Figure size 432x288 with 1 Axes>"
      ]
     },
     "metadata": {},
     "output_type": "display_data"
    }
   ],
   "source": [
    "clas.size().plot(kind='barh')\n",
    "plt.show();"
   ]
  },
  {
   "cell_type": "code",
   "execution_count": 42,
   "id": "5426e6c3",
   "metadata": {},
   "outputs": [
    {
     "data": {
      "text/plain": [
       "<AxesSubplot:ylabel='class'>"
      ]
     },
     "execution_count": 42,
     "metadata": {},
     "output_type": "execute_result"
    },
    {
     "data": {
      "image/png": "[encoded data removed]",
      "text/plain": [
       "<Figure size 360x720 with 1 Axes>"
      ]
     },
     "metadata": {},
     "output_type": "display_data"
    }
   ],
   "source": [
    "labels = classes\n",
    "\n",
    "fig, ax = plt.subplots(1, 1, figsize=(5,10))\n",
    "df['class'].value_counts().plot.pie(autopct = '%1.1f%%', labels=labels)"
   ]
  },
  {
   "cell_type": "markdown",
   "id": "dd4408dd",
   "metadata": {},
   "source": [
    "### 5. Text Preprocessing\n",
    "\n",
    "Normally texts have:\n",
    "<ol>\n",
    "<li>too many spelling mistakes in the text</li>\n",
    "<li>too many numbers and punctuations</li>\n",
    "<li>too many emojis and emoticons and username and links too. </li>\n",
    "<li>Some of the text parts are not in the English language. Data is having a mixture of more than one language</li>\n",
    "<li>Some of the words are combined with the hyphen or data having contractions word or Repetitions of words.</li>\n",
    "\n",
    "</ol>\n",
    "\n",
    "<p>Here i will clean the text by doing the following steps:\n",
    "<ol>\n",
    "\n",
    "<li>Ensure category name consistency</li>\n",
    "<li>Lowecasing the data</li>\n",
    "<li>Removing Puncuatations</li>\n",
    "<li>Removing Numbers</li>\n",
    "<li>Removing extra space</li>\n",
    "<li>Removing Contractions</li>\n",
    "<li>Removing HTML tags</li>\n",
    "<li>Removing & Finding URL and Email id</li>\n",
    "<li>Removing Stop Words</li>\n",
    "<li>Standardizing and Spell Check</li>\n",
    "</ol>\n"
   ]
  },
  {
   "cell_type": "code",
   "execution_count": 44,
   "id": "b32322e8",
   "metadata": {},
   "outputs": [
    {
     "data": {
      "text/html": [
       "<div>\n",
       "<style scoped>\n",
       "    .dataframe tbody tr th:only-of-type {\n",
       "        vertical-align: middle;\n",
       "    }\n",
       "\n",
       "    .dataframe tbody tr th {\n",
       "        vertical-align: top;\n",
       "    }\n",
       "\n",
       "    .dataframe thead th {\n",
       "        text-align: right;\n",
       "    }\n",
       "</style>\n",
       "<table border=\"1\" class=\"dataframe\">\n",
       "  <thead>\n",
       "    <tr style=\"text-align: right;\">\n",
       "      <th></th>\n",
       "      <th>class</th>\n",
       "      <th>Message</th>\n",
       "    </tr>\n",
       "  </thead>\n",
       "  <tbody>\n",
       "  </tbody>\n",
       "</table>\n",
       "</div>"
      ],
      "text/plain": [
       "Empty DataFrame\n",
       "Columns: [class, Message]\n",
       "Index: []"
      ]
     },
     "execution_count": 44,
     "metadata": {},
     "output_type": "execute_result"
    }
   ],
   "source": [
    "# 1) Ensure category name consistency\n",
    "\n",
    "df1 = df.loc[(df['class'] != 'spam') & \n",
    "            (df['class'] != 'ham')]\n",
    "\n",
    "df1.head()"
   ]
  },
  {
   "cell_type": "code",
   "execution_count": 45,
   "id": "ffb8ee8f",
   "metadata": {},
   "outputs": [],
   "source": [
    "# 2) Normalizing Text (lower) \n",
    "\n",
    "def normalize(content):\n",
    "    content = content.lower()\n",
    "    return content\n",
    "\n",
    "# 3) Removing Puncuatations\n",
    "\n",
    "def remove_punct(content):\n",
    "    content = content.translate(content.maketrans(\"\", \"\", string.punctuation))\n",
    "    return content\n",
    "\n",
    "#  4) cleaning digits\n",
    "\n",
    "def remove_num(content):\n",
    "    content = ''.join([i for i in content if not i.isdigit()])\n",
    "\n",
    "    return content\n",
    "\n",
    "# 5) Remove extra-space\n",
    "\n",
    "def remove_spaces(content):\n",
    "    content = \" \".join(content.split())\n",
    "\n",
    "    return content\n",
    "\n",
    "# 6)# Remove Contraction\n",
    "\n",
    "def remove_cont(content):\n",
    "    content = contractions.fix(content)\n",
    "    \n",
    "    return content\n",
    "\n",
    "# 7) Remove Html Tags\n",
    "\n",
    "def remove_html(content):\n",
    "    # parse html content\n",
    "    soup = BeautifulSoup(content, \"html.parser\")\n",
    "\n",
    "    for data in soup(['style', 'script', 'code', 'a']):\n",
    "        # Remove tags\n",
    "        data.decompose()\n",
    "    # return data by retrieving the tag content\n",
    "    content = ' '.join(soup.stripped_strings)\n",
    "    \n",
    "    return content\n",
    "\n",
    "# 8) Remove URLs and E-mails (UniCode)\n",
    "\n",
    "def remove_unicode(content):\n",
    "    content = re.sub(r\"(@\\[A-Za-z0-9]+)|([^0-9A-Za-z \\t])|(\\w+:\\/\\/\\S+)|^rt|http.+?\", \"\", content)\n",
    "    return content\n",
    "\n",
    "# 9) Removing Stop Words\n",
    "\n",
    "def remove_stopword(content):\n",
    "    STOPWORDS = set(stopwords.words('english'))\n",
    "    content = \" \".join([word for word in str(content).split() if word not in STOPWORDS])\n",
    "    return content\n",
    "\n",
    "# 10) Standardizing and Spell Check\n",
    "\n",
    "def Standardize(content):\n",
    "    content = ''.join(''.join(s)[:2] for _, s in itertools.groupby(content))\n",
    "    spell = Speller(lang='en')\n",
    "    content = spell(content)\n",
    "    return content\n",
    "\n",
    "# 11) Remove some Extra-words\n",
    "\n",
    "def remove_extrawords(content):\n",
    "    stop=['href','lt','gt','ii','iii','ie','quot','com']  ## This all words are most repeated words it does not make any sense\n",
    "    content = content.split(\" \")\n",
    "    filtered_list=[]\n",
    "    for i in content:\n",
    "        if i not in stop:\n",
    "            filtered_list.append(i)\n",
    "            \n",
    "    content = ' '.join(filtered_list)\n",
    "    return content"
   ]
  },
  {
   "cell_type": "code",
   "execution_count": 46,
   "id": "47c8dae4",
   "metadata": {},
   "outputs": [],
   "source": [
    "def clean_text(content):\n",
    "    \n",
    "    # Normalize\n",
    "    \n",
    "    Normalized_content = normalize(content)\n",
    "    \n",
    "    # Removing Puncuatations\n",
    "    \n",
    "    clean_content = remove_punct(Normalized_content)\n",
    "\n",
    "    # cleaning digits\n",
    "\n",
    "    clean_content = remove_num(clean_content)\n",
    "\n",
    "    # Remove extra-space\n",
    "    \n",
    "    clean_content = remove_spaces(clean_content)\n",
    "    \n",
    "    # Remove Contraction\n",
    "\n",
    "    clean_content = remove_cont(clean_content)\n",
    "    \n",
    "    # Remove Html Tags\n",
    "\n",
    "    clean_content = remove_html(clean_content)\n",
    "    \n",
    "    # Remove URLs and E-mails (UniCode)\n",
    "\n",
    "    clean_content = remove_unicode(clean_content)\n",
    "    \n",
    "    # Removing Stop Words\n",
    "\n",
    "    clean_content = remove_stopword(clean_content)\n",
    "\n",
    "    # Remove some Extra-words\n",
    "    \n",
    "    clean_content = remove_extrawords(clean_content)\n",
    "\n",
    "    return clean_content"
   ]
  },
  {
   "cell_type": "code",
   "execution_count": 48,
   "id": "42478155",
   "metadata": {},
   "outputs": [],
   "source": [
    "df['Message'] = df['Message'].apply(clean_text)"
   ]
  },
  {
   "cell_type": "markdown",
   "id": "e57e3f0c",
   "metadata": {},
   "source": [
    "### 6 ) Saving datasets obtained from preprocessing."
   ]
  },
  {
   "cell_type": "code",
   "execution_count": 50,
   "id": "9390dbae",
   "metadata": {},
   "outputs": [],
   "source": [
    "df.to_csv(r'../Data/cleaned_spam.csv')"
   ]
  }
 ],
 "metadata": {
  "kernelspec": {
   "display_name": "Python 3 (ipykernel)",
   "language": "python",
   "name": "python3"
  },
  "language_info": {
   "codemirror_mode": {
    "name": "ipython",
    "version": 3
   },
   "file_extension": ".py",
   "mimetype": "text/x-python",
   "name": "python",
   "nbconvert_exporter": "python",
   "pygments_lexer": "ipython3",
   "version": "3.9.12"
  }
 },
 "nbformat": 4,
 "nbformat_minor": 5
}
